{
 "cells": [
  {
   "cell_type": "code",
   "execution_count": 1,
   "metadata": {},
   "outputs": [],
   "source": [
    "import pandas as pd\n",
    "import numpy as np"
   ]
  },
  {
   "cell_type": "code",
   "execution_count": 2,
   "metadata": {},
   "outputs": [],
   "source": [
    "df=pd.read_excel(\"tbl_tr_accident_report.xlsx\")"
   ]
  },
  {
   "cell_type": "code",
   "execution_count": 5,
   "metadata": {},
   "outputs": [],
   "source": [
    "numerics = ['int16', 'int32', 'int64', 'float16', 'float32', 'float64']\n",
    "data = df.select_dtypes(include=numerics)   #to get only numericalvalues to do our correlation process"
   ]
  },
  {
   "cell_type": "code",
   "execution_count": 6,
   "metadata": {},
   "outputs": [],
   "source": [
    "li=[]\n",
    "li=data.isna().sum()"
   ]
  },
  {
   "cell_type": "code",
   "execution_count": 7,
   "metadata": {},
   "outputs": [],
   "source": [
    "li2=[]\n",
    "for i in data:\n",
    "    li2.append(i) "
   ]
  },
  {
   "cell_type": "code",
   "execution_count": 8,
   "metadata": {},
   "outputs": [],
   "source": [
    "for i in range(62):\n",
    "    if li[i]!=0:\n",
    "        del data[li2[i]]"
   ]
  },
  {
   "cell_type": "code",
   "execution_count": 9,
   "metadata": {},
   "outputs": [],
   "source": [
    "del data['Sync_Id']  #since it contains lot of NaN values and  is not Necessary for our data analysis"
   ]
  },
  {
   "cell_type": "code",
   "execution_count": null,
   "metadata": {},
   "outputs": [],
   "source": [
    "# for establishing the correlations we do feature_analysis using chi-Squared test (which is a univariante analysis)\n",
    "from sklearn.feature_selection import SelectKBest   #SelectKBest can be used to select any k features withe statistical methods\n",
    "from sklearn.feature_selection import chi2   # we are going use the chi-squared test as statistical method to select k feature"
   ]
  },
  {
   "cell_type": "code",
   "execution_count": 15,
   "metadata": {},
   "outputs": [
    {
     "name": "stdout",
     "output_type": "stream",
     "text": [
      "                    columns         score\n",
      "23        Reporting_Officer  2.332967e+10\n",
      "24  Inspection_Officer_Name  2.079757e+10\n",
      "30              Aid_Post_No  1.656485e+07\n",
      "19                 HundredM  1.820438e+06\n"
     ]
    }
   ],
   "source": [
    "# to find the correlation for Severity\n",
    "dependent=data['Severity']\n",
    "independent=pd.DataFrame()\n",
    "for i in data:\n",
    "    if i!='Severity':\n",
    "        independent[i]=data[i]\n",
    "b_4= SelectKBest(score_func=chi2, k=4)  #intialising the function to select the best 5 using the chi-squared test\n",
    "fit = b_4.fit(independent,dependent)    #fit is the object of the SelectKbest with idependent and dependent as a parameters \n",
    "scores = pd.DataFrame(fit.scores_)   #fit.scores_   gives the score for the each column\n",
    "columns = pd.DataFrame(independent.columns)  # to get the name of the each column\n",
    "features = pd.concat([columns,scores],axis=1)   # we concat the two Dataframes\n",
    "features.columns=[\"columns\",\"score\"]\n",
    "print(features.nlargest(4,'score'))"
   ]
  },
  {
   "cell_type": "code",
   "execution_count": 19,
   "metadata": {},
   "outputs": [],
   "source": [
    "# here we get our main correlated cloumn as Reporting_Officer , Inspection_Officer_name which really doesnt make much sense"
   ]
  },
  {
   "cell_type": "code",
   "execution_count": 20,
   "metadata": {},
   "outputs": [
    {
     "name": "stdout",
     "output_type": "stream",
     "text": [
      "                    columns         score\n",
      "23        Reporting_Officer  4.782188e+10\n",
      "24  Inspection_Officer_Name  4.568557e+10\n",
      "30              Aid_Post_No  4.904337e+07\n",
      "26                Lane_Type  2.086034e+07\n"
     ]
    }
   ],
   "source": [
    "# for finding out the correlation between the Collision_type and othere columns\n",
    "dependent=data['Collision_Type']\n",
    "independent=pd.DataFrame()\n",
    "for i in data:\n",
    "    if i!='Collision_Type':\n",
    "        independent[i]=data[i]\n",
    "b_4= SelectKBest(score_func=chi2, k=4)  #intialising the function to select the best 5 using the chi-squared test\n",
    "fit = b_4.fit(independent,dependent)    #fit is the object of the SelectKbest with idependent and dependent as a parameters \n",
    "scores = pd.DataFrame(fit.scores_)   #fit.scores_   gives the score for the each column\n",
    "columns = pd.DataFrame(independent.columns)  # to get the name of the each column\n",
    "features = pd.concat([columns,scores],axis=1)   # we concat the two Dataframes\n",
    "features.columns=[\"columns\",\"score\"]\n",
    "print(features.nlargest(4,'score'))"
   ]
  },
  {
   "cell_type": "code",
   "execution_count": 19,
   "metadata": {},
   "outputs": [
    {
     "name": "stdout",
     "output_type": "stream",
     "text": [
      "                    columns         score\n",
      "24  Inspection_Officer_Name  6.085116e+09\n",
      "23        Reporting_Officer  6.024305e+09\n",
      "30              Aid_Post_No  5.707946e+06\n",
      "26                Lane_Type  2.498268e+06\n"
     ]
    }
   ],
   "source": [
    "#for finding out the correlation between Accident_Classification and othere columns\n",
    "dependent=data['Accident_Classification']\n",
    "independent=pd.DataFrame()\n",
    "for i in data:\n",
    "    if i!='Accident_Classification':\n",
    "        independent[i]=data[i]\n",
    "b_4= SelectKBest(score_func=chi2, k=4)  #intialising the function to select the best 5 using the chi-squared test\n",
    "fit = b_4.fit(independent,dependent)    #fit is the object of the SelectKbest with idependent and dependent as a parameters \n",
    "scores = pd.DataFrame(fit.scores_)   #fit.scores_   gives the score for the each column\n",
    "columns = pd.DataFrame(independent.columns)  # to get the name of the each column\n",
    "features = pd.concat([columns,scores],axis=1)   # we concat the two Dataframes\n",
    "features.columns=[\"columns\",\"score\"]\n",
    "print(features.nlargest(4,'score'))"
   ]
  },
  {
   "cell_type": "code",
   "execution_count": 21,
   "metadata": {},
   "outputs": [],
   "source": [
    "#we get the most correlated columns as Inspector_Officer_Name and Reporting_Officer which again doesnt make much sense"
   ]
  },
  {
   "cell_type": "code",
   "execution_count": 25,
   "metadata": {},
   "outputs": [],
   "source": [
    "# dependent=data['Reporting_Officer']\n",
    "# independent=pd.DataFrame()\n",
    "# for i in data:\n",
    "#     if i!='Reporting_Officer':\n",
    "#         independent[i]=data[i]\n",
    "# b_4= SelectKBest(score_func=chi2, k=4)  #intialising the function to select the best 5 using the chi-squared test\n",
    "# #fit = b_4.fit(independent,dependent)    #fit is the object of the SelectKbest with idependent and dependent as a parameters \n",
    "# scores = pd.DataFrame(b_4.fit(independent,dependent) .scores_)   #fit.scores_   gives the score for the each column\n",
    "# #columns = pd.DataFrame(independent.columns)  # to get the name of the each column\n",
    "# features = pd.concat([pd.DataFrame(independent.columns),scores],axis=1)   # we concat the two Dataframes\n",
    "# features.columns=[\"columns\",\"score\"]\n",
    "# print(features.nlargest(4,'score'))"
   ]
  },
  {
   "cell_type": "code",
   "execution_count": 24,
   "metadata": {},
   "outputs": [
    {
     "name": "stderr",
     "output_type": "stream",
     "text": [
      "C:\\Users\\Narayan P Kulkarni\\Anaconda3\\lib\\site-packages\\sklearn\\ensemble\\forest.py:245: FutureWarning: The default value of n_estimators will change from 10 in version 0.20 to 100 in 0.22.\n",
      "  \"10 in version 0.20 to 100 in 0.22.\", FutureWarning)\n"
     ]
    },
    {
     "name": "stdout",
     "output_type": "stream",
     "text": [
      "[0.07117197 0.07005381 0.00928597 0.04727169 0.03993694 0.03045488\n",
      " 0.03785057 0.03895737 0.04967827 0.         0.01349601 0.0084702\n",
      " 0.0193312  0.0233323  0.01534693 0.03366732 0.02947532 0.01451109\n",
      " 0.0235586  0.00270915 0.00052566 0.00061613 0.00050923 0.06589412\n",
      " 0.06740382 0.         0.00721486 0.00380165 0.00588771 0.00456536\n",
      " 0.00166755 0.00638416 0.         0.09364059 0.16332956]\n"
     ]
    },
    {
     "data": {
      "image/png": "[encoded data removed]",
      "text/plain": [
       "<Figure size 432x288 with 1 Axes>"
      ]
     },
     "metadata": {
      "needs_background": "light"
     },
     "output_type": "display_data"
    }
   ],
   "source": [
    "# since we didnt get satisfoctory results from the Univariante analysis we use\n",
    "#Feature Importance Classifier which is A Classification Model which uses ExtraTreesClassifier \n",
    "from sklearn.ensemble import ExtraTreesClassifier\n",
    "import matplotlib.pyplot as plt\n",
    "dependent=data['Severity']\n",
    "independent=pd.DataFrame()\n",
    "for i in data:\n",
    "    if i!='Severity':\n",
    "        independent[i]=data[i]\n",
    "model = ExtraTreesClassifier()\n",
    "model.fit(independent,dependent)\n",
    "print(model.feature_importances_) #use inbuilt class feature_importances of tree based classifiers\n",
    "#plot graph of feature importances for better visualization\n",
    "feat_importances = pd.Series(model.feature_importances_, index=independent.columns)\n",
    "feat_importances.nlargest(10).plot(kind='barh',color=['Red','Blue','Pink','Yellow','Green','Black','Red','Black','Pink','Green'])\n",
    "plt.show()"
   ]
  },
  {
   "cell_type": "code",
   "execution_count": 26,
   "metadata": {},
   "outputs": [],
   "source": [
    "# from the above graph we csan infer that the severity depends upon the No_Of_Animal_Killed and the No_Of_Animal_Injured"
   ]
  },
  {
   "cell_type": "code",
   "execution_count": 23,
   "metadata": {},
   "outputs": [
    {
     "name": "stderr",
     "output_type": "stream",
     "text": [
      "C:\\Users\\Narayan P Kulkarni\\Anaconda3\\lib\\site-packages\\sklearn\\ensemble\\forest.py:245: FutureWarning: The default value of n_estimators will change from 10 in version 0.20 to 100 in 0.22.\n",
      "  \"10 in version 0.20 to 100 in 0.22.\", FutureWarning)\n"
     ]
    },
    {
     "name": "stdout",
     "output_type": "stream",
     "text": [
      "[0.08235453 0.07850949 0.01058603 0.04662156 0.07017463 0.03569693\n",
      " 0.05633683 0.07248371 0.06216949 0.         0.01709683 0.01083667\n",
      " 0.02220475 0.02817363 0.01987057 0.04309278 0.03596821 0.01662354\n",
      " 0.02981214 0.00324998 0.00047594 0.00058231 0.00046794 0.07568699\n",
      " 0.07507426 0.         0.00798902 0.00454125 0.00682096 0.00625313\n",
      " 0.00209816 0.00766112 0.         0.052269   0.01821759]\n"
     ]
    },
    {
     "data": {
      "image/png": "[encoded data removed]",
      "text/plain": [
       "<Figure size 432x288 with 1 Axes>"
      ]
     },
     "metadata": {
      "needs_background": "light"
     },
     "output_type": "display_data"
    }
   ],
   "source": [
    "#featuring analysis for Accident_Spot for finding the correlation between the Accident_Dpot and the othere columns\n",
    "dependent=data['Accident_Spot']\n",
    "independent=pd.DataFrame()\n",
    "for i in data:\n",
    "    if i!='Accident_Spot':\n",
    "        independent[i]=data[i]\n",
    "model = ExtraTreesClassifier()\n",
    "model.fit(independent,dependent)\n",
    "print(model.feature_importances_) #use inbuilt class feature_importances of tree based classifiers\n",
    "#plot graph of feature importances for better visualization\n",
    "feat_importances = pd.Series(model.feature_importances_, index=independent.columns)\n",
    "feat_importances.nlargest(10).plot(kind='barh',color=['Red','Blue','Pink','Yellow','Green','Black','Red','Black','Pink','Green'])\n",
    "plt.show()"
   ]
  },
  {
   "cell_type": "code",
   "execution_count": 28,
   "metadata": {},
   "outputs": [
    {
     "name": "stderr",
     "output_type": "stream",
     "text": [
      "C:\\Users\\Narayan P Kulkarni\\Anaconda3\\lib\\site-packages\\sklearn\\ensemble\\forest.py:245: FutureWarning: The default value of n_estimators will change from 10 in version 0.20 to 100 in 0.22.\n",
      "  \"10 in version 0.20 to 100 in 0.22.\", FutureWarning)\n"
     ]
    },
    {
     "name": "stdout",
     "output_type": "stream",
     "text": [
      "[0.09470862 0.06491417 0.02746375 0.04666638 0.04425711 0.0390153\n",
      " 0.02798303 0.04703443 0.03812179 0.05323984 0.         0.01354319\n",
      " 0.00962473 0.0543775  0.0405447  0.02849564 0.05101432 0.04291582\n",
      " 0.03276148 0.00255245 0.00088436 0.00091657 0.00101188 0.0737449\n",
      " 0.07437492 0.         0.00751402 0.00392349 0.00494798 0.00532004\n",
      " 0.00320331 0.00658365 0.         0.04105502 0.0172856 ]\n"
     ]
    },
    {
     "data": {
      "image/png": "[encoded data removed]",
      "text/plain": [
       "<Figure size 432x288 with 1 Axes>"
      ]
     },
     "metadata": {
      "needs_background": "light"
     },
     "output_type": "display_data"
    }
   ],
   "source": [
    "dependent=data['Main_Cause']\n",
    "independent=pd.DataFrame()\n",
    "for i in data:\n",
    "    if i!='Main_Cause':\n",
    "        independent[i]=data[i]\n",
    "model = ExtraTreesClassifier()\n",
    "model.fit(independent,dependent)\n",
    "print(model.feature_importances_) #use inbuilt class feature_importances of tree based classifiers\n",
    "#plot graph of feature importances for better visualization\n",
    "feat_importances = pd.Series(model.feature_importances_, index=independent.columns)\n",
    "feat_importances.nlargest(10).plot(kind='barh',color=['Red','Blue','Pink','Yellow','Green','Black','Red','Black','Pink','Green'])\n",
    "plt.show()"
   ]
  },
  {
   "cell_type": "code",
   "execution_count": 25,
   "metadata": {},
   "outputs": [],
   "source": [
    "#from the previous graph we can infer that the Main_Cause depends upon the Unit_ID ,Road_Type,Surface_Type ec"
   ]
  },
  {
   "cell_type": "code",
   "execution_count": 29,
   "metadata": {},
   "outputs": [
    {
     "name": "stderr",
     "output_type": "stream",
     "text": [
      "C:\\Users\\Narayan P Kulkarni\\Anaconda3\\lib\\site-packages\\sklearn\\ensemble\\forest.py:245: FutureWarning: The default value of n_estimators will change from 10 in version 0.20 to 100 in 0.22.\n",
      "  \"10 in version 0.20 to 100 in 0.22.\", FutureWarning)\n"
     ]
    },
    {
     "name": "stdout",
     "output_type": "stream",
     "text": [
      "[0.07675108 0.077038   0.01016633 0.04862542 0.06360743 0.06008946\n",
      " 0.04841776 0.05335763 0.06083667 0.         0.01689688 0.01042386\n",
      " 0.02272902 0.02979523 0.01864234 0.0448255  0.03274041 0.01471826\n",
      " 0.04802699 0.00306588 0.00044649 0.00048833 0.00051817 0.0759559\n",
      " 0.075413   0.         0.01049728 0.00523665 0.00595195 0.00547152\n",
      " 0.00196535 0.00704463 0.         0.05176836 0.01848821]\n"
     ]
    },
    {
     "data": {
      "image/png": "[encoded data removed]",
      "text/plain": [
       "<Figure size 432x288 with 1 Axes>"
      ]
     },
     "metadata": {
      "needs_background": "light"
     },
     "output_type": "display_data"
    }
   ],
   "source": [
    "#to find correlation between Collision_Type and othere columns\n",
    "dependent=data['Collision_Type']\n",
    "independent=pd.DataFrame()\n",
    "for i in data:\n",
    "    if i!='Collision_Type':\n",
    "        independent[i]=data[i]\n",
    "model = ExtraTreesClassifier()\n",
    "model.fit(independent,dependent)\n",
    "print(model.feature_importances_) #use inbuilt class feature_importances of tree based classifiers\n",
    "#plot graph of feature importances for better visualization\n",
    "feat_importances = pd.Series(model.feature_importances_, index=independent.columns)\n",
    "feat_importances.nlargest(10).plot(kind='barh',color=['Red','Blue','Pink','Yellow','Green','Black','Red','Black','Pink','Green'])\n",
    "plt.show()"
   ]
  },
  {
   "cell_type": "code",
   "execution_count": 30,
   "metadata": {},
   "outputs": [
    {
     "name": "stderr",
     "output_type": "stream",
     "text": [
      "C:\\Users\\Narayan P Kulkarni\\Anaconda3\\lib\\site-packages\\sklearn\\ensemble\\forest.py:245: FutureWarning: The default value of n_estimators will change from 10 in version 0.20 to 100 in 0.22.\n",
      "  \"10 in version 0.20 to 100 in 0.22.\", FutureWarning)\n"
     ]
    },
    {
     "name": "stdout",
     "output_type": "stream",
     "text": [
      "[0.07295617 0.0736693  0.01199493 0.04625649 0.14782163 0.04374427\n",
      " 0.03269985 0.04320899 0.04449379 0.05534543 0.         0.01457797\n",
      " 0.00965601 0.02363596 0.0260142  0.01706943 0.04166298 0.03488058\n",
      " 0.01915815 0.00255609 0.00054723 0.00056734 0.00051759 0.06970226\n",
      " 0.0692844  0.         0.0080582  0.00480505 0.00577333 0.00498496\n",
      " 0.00175535 0.00651173 0.         0.048128   0.01796233]\n"
     ]
    },
    {
     "data": {
      "image/png": "[encoded data removed]",
      "text/plain": [
       "<Figure size 432x288 with 1 Axes>"
      ]
     },
     "metadata": {
      "needs_background": "light"
     },
     "output_type": "display_data"
    }
   ],
   "source": [
    "#to find the correlation between Hit_Run and the othere parameters \n",
    "dependent=data['Hit_Run']\n",
    "independent=pd.DataFrame()\n",
    "for i in data:\n",
    "    if i!='Hit_Run':\n",
    "        independent[i]=data[i]\n",
    "model = ExtraTreesClassifier()\n",
    "model.fit(independent,dependent)\n",
    "print(model.feature_importances_) #use inbuilt class feature_importances of tree based classifiers\n",
    "#plot graph of feature importances for better visualization\n",
    "feat_importances = pd.Series(model.feature_importances_, index=independent.columns)\n",
    "feat_importances.nlargest(10).plot(kind='barh',color=['Red','Blue','Pink','Yellow','Green','Black','Red','Black','Pink','Green'])\n",
    "plt.show()"
   ]
  },
  {
   "cell_type": "code",
   "execution_count": 27,
   "metadata": {},
   "outputs": [],
   "source": [
    "#from the above graph we can Hit_Run is highly correlated to Collision_Type"
   ]
  },
  {
   "cell_type": "code",
   "execution_count": null,
   "metadata": {},
   "outputs": [],
   "source": []
  }
 ],
 "metadata": {
  "kernelspec": {
   "display_name": "Python 3",
   "language": "python",
   "name": "python3"
  },
  "language_info": {
   "codemirror_mode": {
    "name": "ipython",
    "version": 3
   },
   "file_extension": ".py",
   "mimetype": "text/x-python",
   "name": "python",
   "nbconvert_exporter": "python",
   "pygments_lexer": "ipython3",
   "version": "3.7.4"
  }
 },
 "nbformat": 4,
 "nbformat_minor": 2
}
