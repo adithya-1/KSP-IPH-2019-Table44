{
 "cells": [
  {
   "cell_type": "code",
   "execution_count": 150,
   "metadata": {},
   "outputs": [],
   "source": [
    "import pandas as pd\n",
    "import numpy as np\n",
    "from sklearn.preprocessing import LabelEncoder\n",
    "from sklearn.tree import DecisionTreeClassifier\n",
    "from sklearn.model_selection import train_test_split\n",
    "l = LabelEncoder()"
   ]
  },
  {
   "cell_type": "code",
   "execution_count": 151,
   "metadata": {},
   "outputs": [],
   "source": [
    "data2 = pd.read_excel('output1.xlsx')"
   ]
  },
  {
   "cell_type": "code",
   "execution_count": 152,
   "metadata": {},
   "outputs": [],
   "source": [
    "del data2[\"Highway_Patrol_No\"]"
   ]
  },
  {
   "cell_type": "code",
   "execution_count": 102,
   "metadata": {},
   "outputs": [],
   "source": [
    "del data2['Crime_No']"
   ]
  },
  {
   "cell_type": "code",
   "execution_count": 153,
   "metadata": {},
   "outputs": [],
   "source": [
    "del data2['Sync_Id']"
   ]
  },
  {
   "cell_type": "code",
   "execution_count": 154,
   "metadata": {},
   "outputs": [],
   "source": [
    "del data2['Sync_Id_Old']"
   ]
  },
  {
   "cell_type": "code",
   "execution_count": 155,
   "metadata": {},
   "outputs": [],
   "source": [
    "del data2['Modified_Unit_ID']"
   ]
  },
  {
   "cell_type": "code",
   "execution_count": 156,
   "metadata": {},
   "outputs": [],
   "source": [
    "#del data2['Aid_Post_No']"
   ]
  },
  {
   "cell_type": "code",
   "execution_count": 157,
   "metadata": {},
   "outputs": [],
   "source": [
    "#del data2['NoOf_Animal_Injured']"
   ]
  },
  {
   "cell_type": "code",
   "execution_count": 158,
   "metadata": {},
   "outputs": [],
   "source": [
    "#del data2['NoOf_Animal_Killed']"
   ]
  },
  {
   "cell_type": "code",
   "execution_count": 159,
   "metadata": {},
   "outputs": [],
   "source": [
    "#del data2['Reporting_Officer']"
   ]
  },
  {
   "cell_type": "code",
   "execution_count": 160,
   "metadata": {},
   "outputs": [],
   "source": [
    "del data2['Inspection_Officer_Rank']\n"
   ]
  },
  {
   "cell_type": "code",
   "execution_count": 161,
   "metadata": {},
   "outputs": [],
   "source": [
    "#del data2['Inspection_Officer_Name']"
   ]
  },
  {
   "cell_type": "code",
   "execution_count": 162,
   "metadata": {},
   "outputs": [],
   "source": [
    "del data2['Node_Map']\n",
    "del data2['Node1']\n",
    "del data2['Node2']"
   ]
  },
  {
   "cell_type": "code",
   "execution_count": 163,
   "metadata": {},
   "outputs": [
    {
     "name": "stdout",
     "output_type": "stream",
     "text": [
      "Unit_ID\n",
      "Crime_No\n",
      "Accident_Classification\n",
      "Severity\n",
      "Collision_Type\n",
      "Accident_Spot\n",
      "NoOfVehicle_Involved\n",
      "Junction_Control\n",
      "Road_Character\n",
      "Road_Type\n",
      "Road_Classification\n",
      "Shoulder_Width\n",
      "Seperation\n",
      "Surface_Type\n",
      "Surface_Condition\n",
      "Road_Condition\n",
      "weather\n",
      "Location_Type\n",
      "Main_Cause\n",
      "Hit_Run\n",
      "HundredM\n",
      "Reporting_Officer\n",
      "Inspection_Officer_Name\n",
      "Lane_Type\n",
      "Road_Markings\n",
      "Spot_Conditions\n",
      "Aid_Post_No\n",
      "Side_Walk\n",
      "NoOf_Animal_Injured\n",
      "NoOf_Animal_Killed\n"
     ]
    }
   ],
   "source": [
    "for i in data2:\n",
    "    print(i)"
   ]
  },
  {
   "cell_type": "code",
   "execution_count": 164,
   "metadata": {},
   "outputs": [],
   "source": [
    "categories_x = ['Unit_ID', 'Accident_Classification', 'Collision_Type', 'Accident_Spot', 'Junction_Control', 'Road_Character', 'Road_Type', 'Road_Classification', 'Seperation', 'Surface_Type','Surface_Condition','Road_Condition','weather','Location_Type','Main_Cause','Hit_Run','Lane_Type','Road_Markings','Spot_Conditions','Side_Walk','Reporting_Officer','Inspection_Officer_Name','Aid_Post_No']"
   ]
  },
  {
   "cell_type": "code",
   "execution_count": 165,
   "metadata": {},
   "outputs": [],
   "source": [
    "x = pd.DataFrame()\n",
    "y = pd.DataFrame()"
   ]
  },
  {
   "cell_type": "code",
   "execution_count": 166,
   "metadata": {},
   "outputs": [],
   "source": [
    "x = data2\n",
    "y = data2['Severity']"
   ]
  },
  {
   "cell_type": "code",
   "execution_count": 167,
   "metadata": {},
   "outputs": [],
   "source": [
    "del x['Severity']"
   ]
  },
  {
   "cell_type": "code",
   "execution_count": 168,
   "metadata": {},
   "outputs": [
    {
     "name": "stdout",
     "output_type": "stream",
     "text": [
      "Unit_ID\n",
      "Crime_No\n",
      "Accident_Classification\n",
      "Collision_Type\n",
      "Accident_Spot\n",
      "NoOfVehicle_Involved\n",
      "Junction_Control\n",
      "Road_Character\n",
      "Road_Type\n",
      "Road_Classification\n",
      "Shoulder_Width\n",
      "Seperation\n",
      "Surface_Type\n",
      "Surface_Condition\n",
      "Road_Condition\n",
      "weather\n",
      "Location_Type\n",
      "Main_Cause\n",
      "Hit_Run\n",
      "HundredM\n",
      "Reporting_Officer\n",
      "Inspection_Officer_Name\n",
      "Lane_Type\n",
      "Road_Markings\n",
      "Spot_Conditions\n",
      "Aid_Post_No\n",
      "Side_Walk\n",
      "NoOf_Animal_Injured\n",
      "NoOf_Animal_Killed\n"
     ]
    }
   ],
   "source": [
    "for i in x:\n",
    "    print(i)"
   ]
  },
  {
   "cell_type": "code",
   "execution_count": 169,
   "metadata": {},
   "outputs": [],
   "source": [
    "#y = l.fit_transform(y)"
   ]
  },
  {
   "cell_type": "code",
   "execution_count": null,
   "metadata": {},
   "outputs": [],
   "source": []
  },
  {
   "cell_type": "code",
   "execution_count": 170,
   "metadata": {},
   "outputs": [],
   "source": [
    "for i in categories_x:\n",
    "    x[i] = l.fit_transform(x[i])"
   ]
  },
  {
   "cell_type": "code",
   "execution_count": 171,
   "metadata": {},
   "outputs": [],
   "source": [
    "X_train, X_test, y_train, y_test = train_test_split(x, y, test_size=0.2, random_state=1)"
   ]
  },
  {
   "cell_type": "code",
   "execution_count": 172,
   "metadata": {},
   "outputs": [],
   "source": [
    "clf = DecisionTreeClassifier(criterion=\"entropy\")\n",
    "clf = clf.fit(X_train,y_train)"
   ]
  },
  {
   "cell_type": "code",
   "execution_count": 173,
   "metadata": {},
   "outputs": [],
   "source": [
    "y_pred = clf.predict(X_test)"
   ]
  },
  {
   "cell_type": "code",
   "execution_count": 174,
   "metadata": {},
   "outputs": [
    {
     "name": "stdout",
     "output_type": "stream",
     "text": [
      "Accuracy: 0.6567928232399791\n"
     ]
    }
   ],
   "source": [
    "from sklearn import metrics\n",
    "print(\"Accuracy:\",metrics.accuracy_score(y_test, y_pred))"
   ]
  }
 ],
 "metadata": {
  "kernelspec": {
   "display_name": "Python 3",
   "language": "python",
   "name": "python3"
  },
  "language_info": {
   "codemirror_mode": {
    "name": "ipython",
    "version": 3
   },
   "file_extension": ".py",
   "mimetype": "text/x-python",
   "name": "python",
   "nbconvert_exporter": "python",
   "pygments_lexer": "ipython3",
   "version": "3.7.4"
  }
 },
 "nbformat": 4,
 "nbformat_minor": 2
}
