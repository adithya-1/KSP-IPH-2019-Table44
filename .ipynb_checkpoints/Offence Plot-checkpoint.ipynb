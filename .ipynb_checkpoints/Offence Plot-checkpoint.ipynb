{
 "cells": [
  {
   "cell_type": "code",
   "execution_count": 33,
   "metadata": {},
   "outputs": [],
   "source": [
    "import pandas as pd #importing pandas"
   ]
  },
  {
   "cell_type": "code",
   "execution_count": 2,
   "metadata": {},
   "outputs": [],
   "source": [
    "dataframe=pd.read_excel(\"tbl_CR_FIR_Details.xlsx\")"
   ]
  },
  {
   "cell_type": "code",
   "execution_count": 9,
   "metadata": {},
   "outputs": [],
   "source": [
    "li=['FIR_ID','Unit_ID','Offence_From_Date','FIR_Date','City','State_ID','Beat_ID']#insights used for graphical analysis"
   ]
  },
  {
   "cell_type": "code",
   "execution_count": 20,
   "metadata": {},
   "outputs": [],
   "source": [
    "fircpy = pd.DataFrame()\n",
    "for i in li:\n",
    "    fircpy[i] = dataframe[i]#creating a new data frame with stored list as columns"
   ]
  },
  {
   "cell_type": "code",
   "execution_count": 23,
   "metadata": {},
   "outputs": [],
   "source": [
    "fircpy['Offence_From_Date'] = [str(i)[11::1] for i in fircpy['Offence_From_Date']]"
   ]
  },
  {
   "cell_type": "code",
   "execution_count": 25,
   "metadata": {},
   "outputs": [],
   "source": [
    "fircpy['Offence_From_Date'] = [str(i)[:2:]+str(i)[3:5:] for i in fircpy['Offence_From_Date']]#converting dd-mm-yyyy hh-mm-ss to hhmm"
   ]
  },
  {
   "cell_type": "code",
   "execution_count": 30,
   "metadata": {},
   "outputs": [
    {
     "name": "stdout",
     "output_type": "stream",
     "text": [
      "21277\n",
      "43039\n",
      "52750\n",
      "65093\n",
      "37922\n"
     ]
    }
   ],
   "source": [
    "midn = 0; morn=0; noon=0; even=0; night=0;\n",
    "for i in fircpy['Offence_From_Date']:\n",
    "    h = int(i)\n",
    "    if (h>=2300 and h<2400) or (h>0 and h<=600):\n",
    "        midn+=1\n",
    "    elif (h>600 and h<=1100):\n",
    "        morn+=1\n",
    "    elif (h>1100 and h<=1530):\n",
    "        noon+=1\n",
    "    elif (h>1530 and h<=1930):\n",
    "        even+=1\n",
    "    else:\n",
    "        night+=1\n",
    "#setting time interval\n"
   ]
  },
  {
   "cell_type": "code",
   "execution_count": 31,
   "metadata": {},
   "outputs": [],
   "source": [
    "import matplotlib.pyplot as plt"
   ]
  },
  {
   "cell_type": "code",
   "execution_count": 32,
   "metadata": {},
   "outputs": [
    {
     "data": {
      "text/plain": [
       "<BarContainer object of 5 artists>"
      ]
     },
     "execution_count": 32,
     "metadata": {},
     "output_type": "execute_result"
    },
    {
     "data": {
      "image/png": "[encoded data removed]",
      "text/plain": [
       "<Figure size 432x288 with 1 Axes>"
      ]
     },
     "metadata": {
      "needs_background": "light"
     },
     "output_type": "display_data"
    }
   ],
   "source": [
    "x = [1,2,3,4,5]\n",
    "time = ['Midnight','Morning','Afternoon','Evening','Night']\n",
    "num = [midn,morn,noon,even,night]\n",
    "plt.bar(time,num) #plotting graph from "
   ]
  },
  {
   "cell_type": "code",
   "execution_count": null,
   "metadata": {},
   "outputs": [],
   "source": []
  }
 ],
 "metadata": {
  "kernelspec": {
   "display_name": "Python 3",
   "language": "python",
   "name": "python3"
  },
  "language_info": {
   "codemirror_mode": {
    "name": "ipython",
    "version": 3
   },
   "file_extension": ".py",
   "mimetype": "text/x-python",
   "name": "python",
   "nbconvert_exporter": "python",
   "pygments_lexer": "ipython3",
   "version": "3.7.4"
  }
 },
 "nbformat": 4,
 "nbformat_minor": 2
}
